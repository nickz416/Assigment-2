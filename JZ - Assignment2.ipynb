{
 "cells": [
  {
   "cell_type": "code",
   "execution_count": 1,
   "id": "f19da3e7",
   "metadata": {},
   "outputs": [],
   "source": [
    "import pandas as pd\n",
    "import numpy as np\n",
    "import random\n",
    "import statsmodels.api as sm\n",
    "import networkx as nx\n",
    "import matplotlib.pyplot as plt\n",
    "from tqdm import tqdm\n",
    "random.seed(10)"
   ]
  },
  {
   "cell_type": "code",
   "execution_count": 2,
   "id": "ce9da2fc",
   "metadata": {},
   "outputs": [],
   "source": [
    "def fn_generate_cov(dim):\n",
    "    acc  = []\n",
    "    for i in range(dim):\n",
    "        row = np.ones((1,dim)) * corr\n",
    "        row[0][i] = 1\n",
    "        acc.append(row)\n",
    "    return np.concatenate(acc,axis=0)\n",
    "\n",
    "def fn_generate_multnorm(nobs,corr,nvar):\n",
    "\n",
    "    mu = np.zeros(nvar)\n",
    "    std = (np.abs(np.random.normal(loc = 1, scale = .5,size = (nvar,1))))**(1/2)\n",
    "    # generate random normal distribution\n",
    "    acc = []\n",
    "    for i in range(nvar):\n",
    "        acc.append(np.reshape(np.random.normal(mu[i],std[i],nobs),(nobs,-1)))\n",
    "    \n",
    "    normvars = np.concatenate(acc,axis=1)\n",
    "\n",
    "    cov = fn_generate_cov(nvar)\n",
    "    C = np.linalg.cholesky(cov)\n",
    "\n",
    "    Y = np.transpose(np.dot(C,np.transpose(normvars)))\n",
    "\n",
    "#     return (Y,np.round(np.corrcoef(Y,rowvar=False),2))\n",
    "    return Y\n",
    "\n",
    "def fn_randomize_treatment(N,p=0.5):\n",
    "    treated = random.sample(range(N), round(N*p))\n",
    "    return np.array([(1 if i in treated else 0) for i in range(N)]).reshape([N,1])\n"
   ]
  },
  {
   "cell_type": "code",
   "execution_count": 3,
   "id": "0afcc6c2",
   "metadata": {},
   "outputs": [],
   "source": [
    "def fn_generate_data(tau,N,p,p0,corr,conf,flagX):\n",
    "    \"\"\"\n",
    "    p0(int): number of covariates with nonzero coefficients\n",
    "    \"\"\"\n",
    "    nvar = p+2 # 1 confounder and variable for randomizing treatment\n",
    "    corr = 0.5 # correlation for multivariate normal\n",
    "\n",
    "    if conf==False:\n",
    "        conf_mult = 0 # remove confounder from outcome\n",
    "    else:\n",
    "        conf_mult = 1 \n",
    "    \n",
    "        \n",
    "    allX = fn_generate_multnorm(N,corr,nvar)\n",
    "    W0 = allX[:,0].reshape([N,1]) # variable for RDD assignment\n",
    "    C = allX[:,1].reshape([N,1]) # confounder\n",
    "    X = allX[:,2:] # observed covariates\n",
    "    \n",
    "    T = fn_randomize_treatment(N) # choose treated units\n",
    "    err = np.random.normal(0,1,[N,1])\n",
    "    beta0 = np.random.normal(5,5,[p,1])\n",
    "    \n",
    "    beta0[p0:p] = 0 # sparse model\n",
    "    Yab = tau*T+X@beta0+conf_mult*0.6*C+err\n",
    "    if flagX==False:\n",
    "        return (Yab,T)\n",
    "    else:\n",
    "        return (Yab,T,X)\n",
    "    \n",
    "    # regression discontinuity\n",
    "#     W = W0 + 0.5*C+3*X[:,80].reshape([N,1])-6*X[:,81].reshape([N,1])\n",
    "#     treated = 1*(W>0)\n",
    "#     Yrdd = 1.2* treated - 4*W + X@beta0 +0.6*C+err\n",
    "\n",
    "def fn_tauhat_means(Yt,Yc):\n",
    "    nt = len(Yt)\n",
    "    nc = len(Yc)\n",
    "    tauhat = np.mean(Yt)-np.mean(Yc)\n",
    "    se_tauhat = (np.var(Yt,ddof=1)/nt+np.var(Yc,ddof=1)/nc)**(1/2)\n",
    "    return (tauhat,se_tauhat)\n",
    "\n",
    "def fn_bias_rmse_size(theta0,thetahat,se_thetahat,cval = 1.96):\n",
    "    \"\"\"\n",
    "    theta0 - true parameter value\n",
    "    thetatahat - estimated parameter value\n",
    "    se_thetahat - estiamted se of thetahat\n",
    "    \"\"\"\n",
    "    b = thetahat - theta0\n",
    "    bias = np.mean(b)\n",
    "    rmse = np.sqrt(np.mean(b**2))\n",
    "    tval = b/se_thetahat # paramhat/se_paramhat H0: theta = 0\n",
    "    size = np.mean(1*(np.abs(tval)>cval))\n",
    "    # note size calculated at true parameter value\n",
    "    return (bias,rmse,size)\n",
    "\n",
    "def fn_run_experiments(tau,Nrange,p,p0,corr,conf,flagX=False):\n",
    "    \"\"\"\n",
    "    tau = treatment effect\n",
    "    Nrange - range of sample sizes\n",
    "    p - number of covariates generated\n",
    "    p0 - number of covariates included\n",
    "    corr - correlation between covariates\n",
    "    conf - confounder\n",
    "    \n",
    "    \"\"\"\n",
    "    n_values = []\n",
    "    tauhats = []\n",
    "    sehats = []\n",
    "    lb = []\n",
    "    ub = []\n",
    "    for N in tqdm(Nrange):\n",
    "        n_values = n_values + [N]\n",
    "        if flagX==False:\n",
    "            Yexp,T = fn_generate_data(tau,N,p,p0,corr,conf,flagX)\n",
    "            Yt = Yexp[np.where(T==1)[0],:]\n",
    "            Yc = Yexp[np.where(T==0)[0],:]\n",
    "            tauhat,se_tauhat = fn_tauhat_means(Yt,Yc)            \n",
    "        elif flagX==1:\n",
    "            # use the right covariates in regression\n",
    "            Yexp,T,X = fn_generate_data(tau,N,p,p0,corr,conf,flagX)\n",
    "            Xobs = X[:,:p0]\n",
    "            covars = np.concatenate([T,Xobs],axis = 1)\n",
    "            mod = sm.OLS(Yexp,covars)\n",
    "            res = mod.fit()\n",
    "            tauhat = res.params[0]\n",
    "            se_tauhat = res.HC1_se[0]\n",
    "        elif flagX==2:\n",
    "            # use some of the right covariates and some \"wrong\" ones\n",
    "            Yexp,T,X = fn_generate_data(tau,N,p,p0,corr,conf,flagX)\n",
    "            Xobs1 = X[:,:np.int(p0/2)]\n",
    "            Xobs2 = X[:,-np.int(p0/2):]\n",
    "            covars = np.concatenate([T,Xobs1,Xobs2],axis = 1)\n",
    "            mod = sm.OLS(Yexp,covars)\n",
    "            res = mod.fit()\n",
    "            tauhat = res.params[0]\n",
    "            se_tauhat = res.HC1_se[0]\n",
    "            \n",
    "        tauhats = tauhats + [tauhat]\n",
    "        sehats = sehats + [se_tauhat]    \n",
    "        lb = lb + [tauhat-1.96*se_tauhat]\n",
    "        ub = ub + [tauhat+1.96*se_tauhat]\n",
    "        \n",
    "    return (n_values,tauhats,sehats,lb,ub)"
   ]
  },
  {
   "cell_type": "markdown",
   "id": "9db28cd0",
   "metadata": {},
   "source": [
    "## 1. Simulate a DGP where the outcome of interest depends on a randomly assigned treatment and some observed covariates. \n",
    "\n",
    "$y_i = \\tau*T_i+\\beta'*x_i+e_i$\n",
    "\n"
   ]
  },
  {
   "cell_type": "markdown",
   "id": "8b1a92ba",
   "metadata": {},
   "source": [
    "# DAG"
   ]
  },
  {
   "cell_type": "code",
   "execution_count": 4,
   "id": "52709bac",
   "metadata": {},
   "outputs": [
    {
     "data": {
      "image/png": "[encoded data removed]",
      "text/plain": [
       "<Figure size 432x288 with 1 Axes>"
      ]
     },
     "metadata": {},
     "output_type": "display_data"
    }
   ],
   "source": [
    "graph = nx.DiGraph()\n",
    "g = nx.DiGraph()\n",
    "g.add_edges_from([(\"T\", \"Y\"), (\"Covariates\", \"Y\")])\n",
    "plt.tight_layout()\n",
    "nx.draw_networkx(g, arrows=True)\n",
    "plt.show()"
   ]
  },
  {
   "cell_type": "markdown",
   "id": "44ad167c",
   "metadata": {},
   "source": [
    "Real life example: T is studying time after midterm, Covariates is midterm test score, Y is Final grade. \n",
    "Study time after midterm has no effect on the midterm test score. It can only affect the final grade.\n",
    "But current midterm score also has an effect on the final grade."
   ]
  },
  {
   "cell_type": "markdown",
   "id": "5deb7330",
   "metadata": {},
   "source": [
    "# Don't control any covariates"
   ]
  },
  {
   "cell_type": "code",
   "execution_count": 6,
   "id": "eff311f3",
   "metadata": {
    "scrolled": true
   },
   "outputs": [],
   "source": [
    "tau = 2\n",
    "p = 100\n",
    "p0 = 5 #number of covariates in the DGP\n",
    "corr = 0.5 \n",
    "conf = False\n",
    "flagX = 1\n",
    "N = 1000\n",
    "Y,T,X = fn_generate_data(tau,N,p,p0,corr,conf,flagX)"
   ]
  },
  {
   "cell_type": "code",
   "execution_count": 8,
   "id": "bea52a7f",
   "metadata": {},
   "outputs": [
    {
     "data": {
      "text/html": [
       "<div>\n",
       "<style scoped>\n",
       "    .dataframe tbody tr th:only-of-type {\n",
       "        vertical-align: middle;\n",
       "    }\n",
       "\n",
       "    .dataframe tbody tr th {\n",
       "        vertical-align: top;\n",
       "    }\n",
       "\n",
       "    .dataframe thead th {\n",
       "        text-align: right;\n",
       "    }\n",
       "</style>\n",
       "<table border=\"1\" class=\"dataframe\">\n",
       "  <thead>\n",
       "    <tr style=\"text-align: right;\">\n",
       "      <th></th>\n",
       "      <th>Y</th>\n",
       "      <th>T</th>\n",
       "      <th>X1</th>\n",
       "      <th>X2</th>\n",
       "      <th>X3</th>\n",
       "      <th>X4</th>\n",
       "      <th>X5</th>\n",
       "    </tr>\n",
       "  </thead>\n",
       "  <tbody>\n",
       "    <tr>\n",
       "      <th>0</th>\n",
       "      <td>37.748104</td>\n",
       "      <td>0.0</td>\n",
       "      <td>2.882779</td>\n",
       "      <td>0.217441</td>\n",
       "      <td>0.198710</td>\n",
       "      <td>-0.867386</td>\n",
       "      <td>0.935692</td>\n",
       "    </tr>\n",
       "    <tr>\n",
       "      <th>1</th>\n",
       "      <td>32.453212</td>\n",
       "      <td>0.0</td>\n",
       "      <td>2.493887</td>\n",
       "      <td>0.006288</td>\n",
       "      <td>0.942533</td>\n",
       "      <td>1.328584</td>\n",
       "      <td>0.961531</td>\n",
       "    </tr>\n",
       "    <tr>\n",
       "      <th>2</th>\n",
       "      <td>40.736218</td>\n",
       "      <td>1.0</td>\n",
       "      <td>0.233575</td>\n",
       "      <td>1.312633</td>\n",
       "      <td>1.262037</td>\n",
       "      <td>-0.123686</td>\n",
       "      <td>0.911846</td>\n",
       "    </tr>\n",
       "    <tr>\n",
       "      <th>3</th>\n",
       "      <td>34.273447</td>\n",
       "      <td>0.0</td>\n",
       "      <td>1.975448</td>\n",
       "      <td>-0.460198</td>\n",
       "      <td>0.083334</td>\n",
       "      <td>-1.183814</td>\n",
       "      <td>1.573522</td>\n",
       "    </tr>\n",
       "    <tr>\n",
       "      <th>4</th>\n",
       "      <td>-6.550245</td>\n",
       "      <td>1.0</td>\n",
       "      <td>-0.213497</td>\n",
       "      <td>0.108321</td>\n",
       "      <td>-0.780966</td>\n",
       "      <td>0.756033</td>\n",
       "      <td>0.479664</td>\n",
       "    </tr>\n",
       "    <tr>\n",
       "      <th>...</th>\n",
       "      <td>...</td>\n",
       "      <td>...</td>\n",
       "      <td>...</td>\n",
       "      <td>...</td>\n",
       "      <td>...</td>\n",
       "      <td>...</td>\n",
       "      <td>...</td>\n",
       "    </tr>\n",
       "    <tr>\n",
       "      <th>995</th>\n",
       "      <td>-24.510644</td>\n",
       "      <td>1.0</td>\n",
       "      <td>-0.638829</td>\n",
       "      <td>-0.719743</td>\n",
       "      <td>-0.444101</td>\n",
       "      <td>-1.154700</td>\n",
       "      <td>-1.404316</td>\n",
       "    </tr>\n",
       "    <tr>\n",
       "      <th>996</th>\n",
       "      <td>-4.658177</td>\n",
       "      <td>1.0</td>\n",
       "      <td>-0.839824</td>\n",
       "      <td>0.602930</td>\n",
       "      <td>-0.372154</td>\n",
       "      <td>-0.486609</td>\n",
       "      <td>-0.462866</td>\n",
       "    </tr>\n",
       "    <tr>\n",
       "      <th>997</th>\n",
       "      <td>-14.098694</td>\n",
       "      <td>1.0</td>\n",
       "      <td>-0.270409</td>\n",
       "      <td>0.208288</td>\n",
       "      <td>-0.885696</td>\n",
       "      <td>0.747625</td>\n",
       "      <td>-0.111342</td>\n",
       "    </tr>\n",
       "    <tr>\n",
       "      <th>998</th>\n",
       "      <td>2.880160</td>\n",
       "      <td>1.0</td>\n",
       "      <td>-0.677937</td>\n",
       "      <td>-0.096468</td>\n",
       "      <td>-0.142975</td>\n",
       "      <td>-0.981693</td>\n",
       "      <td>0.335029</td>\n",
       "    </tr>\n",
       "    <tr>\n",
       "      <th>999</th>\n",
       "      <td>7.005213</td>\n",
       "      <td>1.0</td>\n",
       "      <td>0.299994</td>\n",
       "      <td>-0.322760</td>\n",
       "      <td>0.311556</td>\n",
       "      <td>1.053892</td>\n",
       "      <td>0.720146</td>\n",
       "    </tr>\n",
       "  </tbody>\n",
       "</table>\n",
       "<p>1000 rows × 7 columns</p>\n",
       "</div>"
      ],
      "text/plain": [
       "             Y    T        X1        X2        X3        X4        X5\n",
       "0    37.748104  0.0  2.882779  0.217441  0.198710 -0.867386  0.935692\n",
       "1    32.453212  0.0  2.493887  0.006288  0.942533  1.328584  0.961531\n",
       "2    40.736218  1.0  0.233575  1.312633  1.262037 -0.123686  0.911846\n",
       "3    34.273447  0.0  1.975448 -0.460198  0.083334 -1.183814  1.573522\n",
       "4    -6.550245  1.0 -0.213497  0.108321 -0.780966  0.756033  0.479664\n",
       "..         ...  ...       ...       ...       ...       ...       ...\n",
       "995 -24.510644  1.0 -0.638829 -0.719743 -0.444101 -1.154700 -1.404316\n",
       "996  -4.658177  1.0 -0.839824  0.602930 -0.372154 -0.486609 -0.462866\n",
       "997 -14.098694  1.0 -0.270409  0.208288 -0.885696  0.747625 -0.111342\n",
       "998   2.880160  1.0 -0.677937 -0.096468 -0.142975 -0.981693  0.335029\n",
       "999   7.005213  1.0  0.299994 -0.322760  0.311556  1.053892  0.720146\n",
       "\n",
       "[1000 rows x 7 columns]"
      ]
     },
     "execution_count": 8,
     "metadata": {},
     "output_type": "execute_result"
    }
   ],
   "source": [
    "data_Q1 = np.concatenate([Y,T,X[:,:p0]],axis = 1)\n",
    "data_Q1 = pd.DataFrame(data_Q1)\n",
    "data_Q1.columns = ['Y', 'T', 'X1', 'X2','X3','X4','X5']\n",
    "data_Q1.to_csv('covariate.csv')\n",
    "data_Q1"
   ]
  },
  {
   "cell_type": "code",
   "execution_count": 18,
   "id": "80fdc567",
   "metadata": {},
   "outputs": [
    {
     "name": "stderr",
     "output_type": "stream",
     "text": [
      "100%|██████████████████████████████████████| 2000/2000 [00:08<00:00, 239.97it/s]\n",
      "100%|███████████████████████████████████████| 2000/2000 [00:28<00:00, 70.88it/s]\n"
     ]
    }
   ],
   "source": [
    "estDict = {}\n",
    "R = 2000\n",
    "for N in [100,1000]:\n",
    "    tauhats = []\n",
    "    sehats = []\n",
    "    for r in tqdm(range(R)):\n",
    "        Yexp,T,X = fn_generate_data(tau,N,p,p0,corr,conf,flagX)\n",
    "        Yt = Yexp[np.where(T==1)[0],:]\n",
    "        Yc = Yexp[np.where(T==0)[0],:]\n",
    "        tauhat,se_tauhat = fn_tauhat_means(Yt,Yc)\n",
    "        tauhats = tauhats + [tauhat]\n",
    "        sehats = sehats + [se_tauhat]\n",
    "    estDict[N] = {\n",
    "        'tauhat':np.array(tauhats).reshape([len(tauhats),1]),\n",
    "        'sehat':np.array(sehats).reshape([len(sehats),1])\n",
    "    }"
   ]
  },
  {
   "cell_type": "code",
   "execution_count": 19,
   "id": "456fb046",
   "metadata": {},
   "outputs": [
    {
     "name": "stdout",
     "output_type": "stream",
     "text": [
      "N=100: bias=0.02009651909999741, RMSE=4.530320488163173, size=0.0575\n",
      "N=1000: bias=0.025853844834638793, RMSE=1.3788278516301748, size=0.051\n"
     ]
    }
   ],
   "source": [
    "tau0 = tau*np.ones([R,1])\n",
    "for N, results in estDict.items():\n",
    "    (bias,rmse,size) = fn_bias_rmse_size(tau0,results['tauhat'],\n",
    "                                         results['sehat'])\n",
    "    print(f'N={N}: bias={bias}, RMSE={rmse}, size={size}')"
   ]
  },
  {
   "cell_type": "markdown",
   "id": "a4ef26db",
   "metadata": {},
   "source": [
    "# FlagX = 2, Use some right and wrong covariates / do not control covariates"
   ]
  },
  {
   "cell_type": "code",
   "execution_count": 24,
   "id": "cf06d9a1",
   "metadata": {
    "scrolled": true
   },
   "outputs": [
    {
     "name": "stderr",
     "output_type": "stream",
     "text": [
      "100%|██████████████████████████████████████| 2000/2000 [00:08<00:00, 248.42it/s]\n",
      "100%|███████████████████████████████████████| 2000/2000 [00:28<00:00, 71.04it/s]\n"
     ]
    }
   ],
   "source": [
    "estDict = {}\n",
    "R = 2000\n",
    "for N in [100,1000]:\n",
    "    tauhats = []\n",
    "    sehats = []\n",
    "    for r in tqdm(range(R)):\n",
    "        Yexp,T,X = fn_generate_data(tau,N,p,p0,corr,conf,flagX)\n",
    "        Xobs = X[:,:p0]\n",
    "        covars = np.concatenate([T,Xobs],axis = 1)\n",
    "        mod = sm.OLS(Yexp,covars)\n",
    "        res = mod.fit()\n",
    "        tauhat = res.params[0]\n",
    "        se_tauhat = res.HC1_se[0]\n",
    "        tauhats = tauhats + [tauhat]\n",
    "        sehats = sehats + [se_tauhat]\n",
    "        \n",
    "    estDict[N] = {\n",
    "        'tauhat':np.array(tauhats).reshape([len(tauhats),1]),\n",
    "        'sehat':np.array(sehats).reshape([len(sehats),1])\n",
    "    }"
   ]
  },
  {
   "cell_type": "code",
   "execution_count": 25,
   "id": "3ccaaa80",
   "metadata": {},
   "outputs": [
    {
     "name": "stdout",
     "output_type": "stream",
     "text": [
      "N=100: bias=-0.0023642752703981786, RMSE=0.1449827804704249, size=0.0575\n",
      "N=1000: bias=0.0012646262565597633, RMSE=0.04403307017156734, size=0.052\n"
     ]
    }
   ],
   "source": [
    "tau0 = tau*np.ones([R,1])\n",
    "for N, results in estDict.items():\n",
    "    (bias,rmse,size) = fn_bias_rmse_size(tau0,results['tauhat'],\n",
    "                                         results['sehat'])\n",
    "    print(f'N={N}: bias={bias}, RMSE={rmse}, size={size}')"
   ]
  },
  {
   "cell_type": "markdown",
   "id": "342cbfae",
   "metadata": {},
   "source": [
    "# 2. Simulate a DGP with a confounder (common cause)"
   ]
  },
  {
   "cell_type": "markdown",
   "id": "33ba8dde",
   "metadata": {},
   "source": [
    "$y_i = \\tau*T_i+\\beta'*x_i+e_i$\n",
    "\n",
    "$T_i = \\gamma*x_i$\n",
    "\n",
    "where $x_i$ is the confounder"
   ]
  },
  {
   "cell_type": "code",
   "execution_count": 26,
   "id": "a4148983",
   "metadata": {},
   "outputs": [
    {
     "data": {
      "image/png": "[encoded data removed]",
      "text/plain": [
       "<Figure size 432x288 with 1 Axes>"
      ]
     },
     "metadata": {},
     "output_type": "display_data"
    }
   ],
   "source": [
    "graph = nx.DiGraph()\n",
    "g = nx.DiGraph()\n",
    "g.add_edges_from([(\"T\", \"Y\"), (\"X\", \"Y\"),(\"X\",\"T\")])\n",
    "plt.tight_layout()\n",
    "nx.draw_networkx(g, arrows=True)\n",
    "plt.show()"
   ]
  },
  {
   "cell_type": "markdown",
   "id": "7ae2affc",
   "metadata": {},
   "source": [
    "Real world example: Beer consumption will cause overweight. And beer comsumption also has a negative effect on lack of exercise. Lack of exercise will cause overweight."
   ]
  },
  {
   "cell_type": "code",
   "execution_count": 27,
   "id": "54637228",
   "metadata": {},
   "outputs": [],
   "source": [
    "def fn_generate_data_conf(tau,N,p,p0,corr,conf = True):\n",
    "    if conf==False:\n",
    "        conf_mult = 0 # remove confounder from outcome\n",
    "    else:\n",
    "        conf_mult = 1 \n",
    "    nvar = p+1 # 1 confounder and variable for randomizing treatment\n",
    "    corr = 0.5 # correlation for multivariate normal\n",
    "    X = fn_generate_multnorm(N,corr,nvar)\n",
    "    C = X[:,1].reshape([N,1]) # confounder\n",
    "    T = fn_randomize_treatment(N) # choose treated units\n",
    "    err = np.random.normal(0,1,[N,1])\n",
    "    Yab = tau*T+0.5*C+err\n",
    "    Tab = T+0.5*C\n",
    "    \n",
    "\n",
    "    return (Yab,Tab,C)"
   ]
  },
  {
   "cell_type": "code",
   "execution_count": 28,
   "id": "aa6321f3",
   "metadata": {},
   "outputs": [],
   "source": [
    "tau = 2\n",
    "p = 100\n",
    "p0 = 3 \n",
    "corr = 0.5 \n",
    "N = 1000\n",
    "Nrange = range(10,1000,2)\n",
    "conf = 1\n",
    "Y,T,C = fn_generate_data_conf(tau,N,p,p0,corr,conf)"
   ]
  },
  {
   "cell_type": "code",
   "execution_count": 29,
   "id": "7addfbb0",
   "metadata": {},
   "outputs": [
    {
     "data": {
      "text/html": [
       "<div>\n",
       "<style scoped>\n",
       "    .dataframe tbody tr th:only-of-type {\n",
       "        vertical-align: middle;\n",
       "    }\n",
       "\n",
       "    .dataframe tbody tr th {\n",
       "        vertical-align: top;\n",
       "    }\n",
       "\n",
       "    .dataframe thead th {\n",
       "        text-align: right;\n",
       "    }\n",
       "</style>\n",
       "<table border=\"1\" class=\"dataframe\">\n",
       "  <thead>\n",
       "    <tr style=\"text-align: right;\">\n",
       "      <th></th>\n",
       "      <th>Y</th>\n",
       "      <th>Treatment</th>\n",
       "      <th>Confounder</th>\n",
       "    </tr>\n",
       "  </thead>\n",
       "  <tbody>\n",
       "    <tr>\n",
       "      <th>0</th>\n",
       "      <td>1.605513</td>\n",
       "      <td>0.120098</td>\n",
       "      <td>0.240197</td>\n",
       "    </tr>\n",
       "    <tr>\n",
       "      <th>1</th>\n",
       "      <td>-1.071646</td>\n",
       "      <td>0.054004</td>\n",
       "      <td>0.108007</td>\n",
       "    </tr>\n",
       "    <tr>\n",
       "      <th>2</th>\n",
       "      <td>-1.261118</td>\n",
       "      <td>-0.317969</td>\n",
       "      <td>-0.635938</td>\n",
       "    </tr>\n",
       "    <tr>\n",
       "      <th>3</th>\n",
       "      <td>0.848243</td>\n",
       "      <td>-0.180607</td>\n",
       "      <td>-0.361214</td>\n",
       "    </tr>\n",
       "    <tr>\n",
       "      <th>4</th>\n",
       "      <td>2.340992</td>\n",
       "      <td>0.461794</td>\n",
       "      <td>-1.076413</td>\n",
       "    </tr>\n",
       "    <tr>\n",
       "      <th>...</th>\n",
       "      <td>...</td>\n",
       "      <td>...</td>\n",
       "      <td>...</td>\n",
       "    </tr>\n",
       "    <tr>\n",
       "      <th>995</th>\n",
       "      <td>1.584503</td>\n",
       "      <td>0.789969</td>\n",
       "      <td>-0.420061</td>\n",
       "    </tr>\n",
       "    <tr>\n",
       "      <th>996</th>\n",
       "      <td>1.287226</td>\n",
       "      <td>0.822345</td>\n",
       "      <td>-0.355309</td>\n",
       "    </tr>\n",
       "    <tr>\n",
       "      <th>997</th>\n",
       "      <td>0.950811</td>\n",
       "      <td>1.043328</td>\n",
       "      <td>0.086655</td>\n",
       "    </tr>\n",
       "    <tr>\n",
       "      <th>998</th>\n",
       "      <td>0.353829</td>\n",
       "      <td>0.351704</td>\n",
       "      <td>0.703408</td>\n",
       "    </tr>\n",
       "    <tr>\n",
       "      <th>999</th>\n",
       "      <td>2.009058</td>\n",
       "      <td>0.730806</td>\n",
       "      <td>-0.538388</td>\n",
       "    </tr>\n",
       "  </tbody>\n",
       "</table>\n",
       "<p>1000 rows × 3 columns</p>\n",
       "</div>"
      ],
      "text/plain": [
       "            Y  Treatment  Confounder\n",
       "0    1.605513   0.120098    0.240197\n",
       "1   -1.071646   0.054004    0.108007\n",
       "2   -1.261118  -0.317969   -0.635938\n",
       "3    0.848243  -0.180607   -0.361214\n",
       "4    2.340992   0.461794   -1.076413\n",
       "..        ...        ...         ...\n",
       "995  1.584503   0.789969   -0.420061\n",
       "996  1.287226   0.822345   -0.355309\n",
       "997  0.950811   1.043328    0.086655\n",
       "998  0.353829   0.351704    0.703408\n",
       "999  2.009058   0.730806   -0.538388\n",
       "\n",
       "[1000 rows x 3 columns]"
      ]
     },
     "execution_count": 29,
     "metadata": {},
     "output_type": "execute_result"
    }
   ],
   "source": [
    "data_Q2 = np.concatenate([Y,T,C],axis = 1)\n",
    "data_Q2 = pd.DataFrame(data_Q2)\n",
    "data_Q2.columns = [\"Y\",\"Treatment\",\"Confounder\"]\n",
    "data_Q2.to_csv(\"confounder.csv\")\n",
    "data_Q2"
   ]
  },
  {
   "cell_type": "markdown",
   "id": "e883c966",
   "metadata": {},
   "source": [
    "# a. You fail to control for the confounder"
   ]
  },
  {
   "cell_type": "code",
   "execution_count": 34,
   "id": "38bb2936",
   "metadata": {},
   "outputs": [
    {
     "name": "stderr",
     "output_type": "stream",
     "text": [
      "100%|██████████████████████████████████████| 2000/2000 [00:15<00:00, 131.26it/s]\n",
      "100%|███████████████████████████████████████| 2000/2000 [00:32<00:00, 61.72it/s]\n"
     ]
    }
   ],
   "source": [
    "estDict = {}\n",
    "R = 2000\n",
    "for N in [100,1000]:\n",
    "    tauhats = []\n",
    "    sehats = []\n",
    "    for r in tqdm(range(R)):\n",
    "        Y,T,C = fn_generate_data_conf(tau,N,p,p0,corr,conf)\n",
    "        covars = np.concatenate([T],axis = 1)\n",
    "        mod = sm.OLS(Y,covars)\n",
    "        res = mod.fit()\n",
    "        tauhat = res.params[0]\n",
    "        se_tauhat = res.HC1_se[0]\n",
    "        tauhats = tauhats + [tauhat]\n",
    "        sehats = sehats + [se_tauhat]\n",
    "    estDict[N] = {\n",
    "        'tauhat':np.array(tauhats).reshape([len(tauhats),1]),\n",
    "        'sehat':np.array(sehats).reshape([len(sehats),1])\n",
    "    }"
   ]
  },
  {
   "cell_type": "code",
   "execution_count": 36,
   "id": "44fb5a30",
   "metadata": {},
   "outputs": [
    {
     "name": "stdout",
     "output_type": "stream",
     "text": [
      "N=100: bias=0.003183062933376562, RMSE=0.1410370335237778, size=0.051\n",
      "N=1000: bias=0.0004362660357177932, RMSE=0.04489964863900364, size=0.0545\n"
     ]
    }
   ],
   "source": [
    "tau0 = tau*np.ones([R,1])\n",
    "for N, results in estDict.items():\n",
    "    (bias,rmse,size) = fn_bias_rmse_size(tau0,results['tauhat'],\n",
    "                                         results['sehat'])\n",
    "    print(f'N={N}: bias={bias}, RMSE={rmse}, size={size}')"
   ]
  },
  {
   "cell_type": "markdown",
   "id": "78157b78",
   "metadata": {},
   "source": [
    "# B. You control the confounder"
   ]
  },
  {
   "cell_type": "code",
   "execution_count": 35,
   "id": "6f2548ce",
   "metadata": {},
   "outputs": [
    {
     "name": "stderr",
     "output_type": "stream",
     "text": [
      "100%|██████████████████████████████████████| 2000/2000 [00:08<00:00, 248.42it/s]\n",
      "100%|███████████████████████████████████████| 2000/2000 [00:26<00:00, 75.56it/s]\n"
     ]
    }
   ],
   "source": [
    "estDict = {}\n",
    "R = 2000\n",
    "for N in [100,1000]:\n",
    "    tauhats = []\n",
    "    sehats = []\n",
    "    for r in tqdm(range(R)):\n",
    "        Y,T,C = fn_generate_data_conf(tau,N,p,p0,corr,conf)\n",
    "        covars = np.concatenate([T,C],axis = 1)\n",
    "        mod = sm.OLS(Y,covars)\n",
    "        res = mod.fit()\n",
    "        tauhat = res.params[0]\n",
    "        se_tauhat = res.HC1_se[0]\n",
    "        tauhats = tauhats + [tauhat]\n",
    "        sehats = sehats + [se_tauhat]\n",
    "    estDict[N] = {\n",
    "        'tauhat':np.array(tauhats).reshape([len(tauhats),1]),\n",
    "        'sehat':np.array(sehats).reshape([len(sehats),1])\n",
    "    }"
   ]
  },
  {
   "cell_type": "code",
   "execution_count": 37,
   "id": "98805294",
   "metadata": {},
   "outputs": [
    {
     "name": "stdout",
     "output_type": "stream",
     "text": [
      "N=100: bias=0.003183062933376562, RMSE=0.1410370335237778, size=0.051\n",
      "N=1000: bias=0.0004362660357177932, RMSE=0.04489964863900364, size=0.0545\n"
     ]
    }
   ],
   "source": [
    "tau0 = tau*np.ones([R,1])\n",
    "for N, results in estDict.items():\n",
    "    (bias,rmse,size) = fn_bias_rmse_size(tau0,results['tauhat'],\n",
    "                                         results['sehat'])\n",
    "    print(f'N={N}: bias={bias}, RMSE={rmse}, size={size}')"
   ]
  },
  {
   "cell_type": "markdown",
   "id": "e9955dd2",
   "metadata": {},
   "source": [
    "# 3.Simulate a DGP with selection bias into the treatment"
   ]
  },
  {
   "cell_type": "code",
   "execution_count": 38,
   "id": "2e3720ef",
   "metadata": {},
   "outputs": [
    {
     "data": {
      "image/png": "[encoded data removed]",
      "text/plain": [
       "<Figure size 432x288 with 1 Axes>"
      ]
     },
     "metadata": {},
     "output_type": "display_data"
    }
   ],
   "source": [
    "graph = nx.DiGraph()\n",
    "g = nx.DiGraph()\n",
    "g.add_edges_from([(\"Treatment\", \"Y\"), (\"Y\", \"S\"),(\"Treatment\",\"S\")])\n",
    "plt.tight_layout()\n",
    "nx.draw_networkx(g, arrows=True)\n",
    "plt.show()"
   ]
  },
  {
   "cell_type": "markdown",
   "id": "678e7ee7",
   "metadata": {},
   "source": [
    "$s = 0.6*y+0.5*T+u$,\n",
    "    \n",
    "$y = 2*T+e$,\n",
    "   "
   ]
  },
  {
   "cell_type": "markdown",
   "id": "eba8875d",
   "metadata": {},
   "source": [
    "Real example: Y is getting a job interview. Treatment is if the person has professional skills. S is whether the person is hired.  "
   ]
  },
  {
   "cell_type": "code",
   "execution_count": 39,
   "id": "7862844c",
   "metadata": {},
   "outputs": [],
   "source": [
    "def fn_generate_data_s(tau,N,p,corr):\n",
    "\n",
    "    nvar = p+1 # 1 for selection bias\n",
    "    corr = 0.5 # correlation for multivariate normal\n",
    " \n",
    "    allX = fn_generate_multnorm(N,corr,nvar)\n",
    "    T = fn_randomize_treatment(N) # choose treated units\n",
    "    err = np.random.normal(0,1,[N,1])\n",
    "    U = np.random.normal(0,1,[N,1])\n",
    "    Y = tau*T+err\n",
    "    S = 0.6*T+0.5*Y+U\n",
    "\n",
    "    return (Y,T,S)"
   ]
  },
  {
   "cell_type": "code",
   "execution_count": 46,
   "id": "9e8fa011",
   "metadata": {},
   "outputs": [
    {
     "data": {
      "text/html": [
       "<div>\n",
       "<style scoped>\n",
       "    .dataframe tbody tr th:only-of-type {\n",
       "        vertical-align: middle;\n",
       "    }\n",
       "\n",
       "    .dataframe tbody tr th {\n",
       "        vertical-align: top;\n",
       "    }\n",
       "\n",
       "    .dataframe thead th {\n",
       "        text-align: right;\n",
       "    }\n",
       "</style>\n",
       "<table border=\"1\" class=\"dataframe\">\n",
       "  <thead>\n",
       "    <tr style=\"text-align: right;\">\n",
       "      <th></th>\n",
       "      <th>Y</th>\n",
       "      <th>T</th>\n",
       "      <th>S</th>\n",
       "    </tr>\n",
       "  </thead>\n",
       "  <tbody>\n",
       "    <tr>\n",
       "      <th>0</th>\n",
       "      <td>-0.487978</td>\n",
       "      <td>0.0</td>\n",
       "      <td>0.745297</td>\n",
       "    </tr>\n",
       "    <tr>\n",
       "      <th>1</th>\n",
       "      <td>2.453715</td>\n",
       "      <td>1.0</td>\n",
       "      <td>2.275270</td>\n",
       "    </tr>\n",
       "    <tr>\n",
       "      <th>2</th>\n",
       "      <td>3.301882</td>\n",
       "      <td>1.0</td>\n",
       "      <td>3.086733</td>\n",
       "    </tr>\n",
       "    <tr>\n",
       "      <th>3</th>\n",
       "      <td>2.410699</td>\n",
       "      <td>1.0</td>\n",
       "      <td>4.541856</td>\n",
       "    </tr>\n",
       "    <tr>\n",
       "      <th>4</th>\n",
       "      <td>1.814677</td>\n",
       "      <td>1.0</td>\n",
       "      <td>2.172228</td>\n",
       "    </tr>\n",
       "    <tr>\n",
       "      <th>...</th>\n",
       "      <td>...</td>\n",
       "      <td>...</td>\n",
       "      <td>...</td>\n",
       "    </tr>\n",
       "    <tr>\n",
       "      <th>995</th>\n",
       "      <td>-0.184840</td>\n",
       "      <td>1.0</td>\n",
       "      <td>0.067676</td>\n",
       "    </tr>\n",
       "    <tr>\n",
       "      <th>996</th>\n",
       "      <td>-1.045244</td>\n",
       "      <td>0.0</td>\n",
       "      <td>-0.517712</td>\n",
       "    </tr>\n",
       "    <tr>\n",
       "      <th>997</th>\n",
       "      <td>-2.078126</td>\n",
       "      <td>0.0</td>\n",
       "      <td>-1.852930</td>\n",
       "    </tr>\n",
       "    <tr>\n",
       "      <th>998</th>\n",
       "      <td>1.928195</td>\n",
       "      <td>1.0</td>\n",
       "      <td>1.293003</td>\n",
       "    </tr>\n",
       "    <tr>\n",
       "      <th>999</th>\n",
       "      <td>1.556613</td>\n",
       "      <td>1.0</td>\n",
       "      <td>0.901307</td>\n",
       "    </tr>\n",
       "  </tbody>\n",
       "</table>\n",
       "<p>1000 rows × 3 columns</p>\n",
       "</div>"
      ],
      "text/plain": [
       "            Y    T         S\n",
       "0   -0.487978  0.0  0.745297\n",
       "1    2.453715  1.0  2.275270\n",
       "2    3.301882  1.0  3.086733\n",
       "3    2.410699  1.0  4.541856\n",
       "4    1.814677  1.0  2.172228\n",
       "..        ...  ...       ...\n",
       "995 -0.184840  1.0  0.067676\n",
       "996 -1.045244  0.0 -0.517712\n",
       "997 -2.078126  0.0 -1.852930\n",
       "998  1.928195  1.0  1.293003\n",
       "999  1.556613  1.0  0.901307\n",
       "\n",
       "[1000 rows x 3 columns]"
      ]
     },
     "execution_count": 46,
     "metadata": {},
     "output_type": "execute_result"
    }
   ],
   "source": [
    "tau = 2\n",
    "corr = 0.5\n",
    "p = 3\n",
    "N = 1000\n",
    "Y,T,S = fn_generate_data_s(tau,N,p,corr)\n",
    "\n",
    "data_Q3 = np.concatenate([Y,T,S],axis = 1)\n",
    "data_Q3 = pd.DataFrame(data_Q3)\n",
    "data_Q3.columns = ['Y', 'T', 'S']\n",
    "data_Q3.to_csv('selectionbias.csv')\n",
    "data_Q3"
   ]
  },
  {
   "cell_type": "markdown",
   "id": "d712e29d",
   "metadata": {},
   "source": [
    "# A. Do not control for selection bias\n"
   ]
  },
  {
   "cell_type": "code",
   "execution_count": 47,
   "id": "ed1bbc65",
   "metadata": {},
   "outputs": [
    {
     "name": "stderr",
     "output_type": "stream",
     "text": [
      "100%|█████████████████████████████████████| 2000/2000 [00:00<00:00, 2054.83it/s]\n",
      "100%|██████████████████████████████████████| 2000/2000 [00:12<00:00, 164.76it/s]\n"
     ]
    }
   ],
   "source": [
    "estDict = {}\n",
    "R = 2000\n",
    "for N in [100,1000]:\n",
    "    tauhats = []\n",
    "    sehats = []\n",
    "    for r in tqdm(range(R)):\n",
    "        Yexp,T,Z = fn_generate_data_s(tau,N,p,corr)   \n",
    "        Yt = Yexp[np.where(T==1)[0],:]\n",
    "        Yc = Yexp[np.where(T==0)[0],:]\n",
    "        tauhat,se_tauhat = fn_tauhat_means(Yt,Yc)\n",
    "        tauhats = tauhats + [tauhat]\n",
    "        sehats = sehats + [se_tauhat]\n",
    "        \n",
    "    estDict[N] = {\n",
    "        'tauhat':np.array(tauhats).reshape([len(tauhats),1]),\n",
    "        'sehat':np.array(sehats).reshape([len(sehats),1])\n",
    "    }"
   ]
  },
  {
   "cell_type": "code",
   "execution_count": 48,
   "id": "f4683c00",
   "metadata": {},
   "outputs": [
    {
     "name": "stdout",
     "output_type": "stream",
     "text": [
      "N=100: bias=0.0036427500147733338, RMSE=0.2008533171906668, size=0.0525\n",
      "N=1000: bias=-0.0003259854128652543, RMSE=0.06414904046714491, size=0.054\n"
     ]
    }
   ],
   "source": [
    "tau0 = tau*np.ones([R,1])\n",
    "for N, results in estDict.items():\n",
    "    (bias,rmse,size) = fn_bias_rmse_size(tau0,results['tauhat'],\n",
    "                                         results['sehat'])\n",
    "    print(f'N={N}: bias={bias}, RMSE={rmse}, size={size}')"
   ]
  },
  {
   "cell_type": "markdown",
   "id": "12ba0f91",
   "metadata": {},
   "source": [
    "# B. control for selection bias"
   ]
  },
  {
   "cell_type": "code",
   "execution_count": 49,
   "id": "a64baebb",
   "metadata": {},
   "outputs": [
    {
     "name": "stderr",
     "output_type": "stream",
     "text": [
      "100%|█████████████████████████████████████| 2000/2000 [00:01<00:00, 1014.91it/s]\n",
      "100%|██████████████████████████████████████| 2000/2000 [00:13<00:00, 148.85it/s]\n"
     ]
    }
   ],
   "source": [
    "estDict = {}\n",
    "R = 2000\n",
    "for N in [100,1000]:\n",
    "    tauhats = []\n",
    "    sehats = []\n",
    "    for r in tqdm(range(R)):\n",
    "        Yexp,T,Z = fn_generate_data_s(tau,N,p,corr)\n",
    "        covars = np.concatenate([T,Z],axis = 1)\n",
    "        mod = sm.OLS(Yexp,covars)\n",
    "        res = mod.fit()\n",
    "        tauhat = res.params[0]\n",
    "        se_tauhat = res.HC1_se[0]\n",
    "        tauhats = tauhats + [tauhat]\n",
    "        sehats = sehats + [se_tauhat]\n",
    "        \n",
    "    estDict[N] = {\n",
    "        'tauhat':np.array(tauhats).reshape([len(tauhats),1]),\n",
    "        'sehat':np.array(sehats).reshape([len(sehats),1])\n",
    "    }"
   ]
  },
  {
   "cell_type": "code",
   "execution_count": 50,
   "id": "1c220b22",
   "metadata": {},
   "outputs": [
    {
     "name": "stdout",
     "output_type": "stream",
     "text": [
      "N=100: bias=-0.6390968177416922, RMSE=0.6652901840602992, size=0.936\n",
      "N=1000: bias=-0.6406790917724589, RMSE=0.6432159053261197, size=1.0\n"
     ]
    }
   ],
   "source": [
    "tau0 = tau*np.ones([R,1])\n",
    "for N, results in estDict.items():\n",
    "    (bias,rmse,size) = fn_bias_rmse_size(tau0,results['tauhat'],\n",
    "                                         results['sehat'])\n",
    "    print(f'N={N}: bias={bias}, RMSE={rmse}, size={size}')"
   ]
  }
 ],
 "metadata": {
  "kernelspec": {
   "display_name": "Python 3 (ipykernel)",
   "language": "python",
   "name": "python3"
  },
  "language_info": {
   "codemirror_mode": {
    "name": "ipython",
    "version": 3
   },
   "file_extension": ".py",
   "mimetype": "text/x-python",
   "name": "python",
   "nbconvert_exporter": "python",
   "pygments_lexer": "ipython3",
   "version": "3.9.7"
  }
 },
 "nbformat": 4,
 "nbformat_minor": 5
}
